{
 "cells": [
  {
   "cell_type": "code",
   "execution_count": null,
   "metadata": {},
   "outputs": [],
   "source": [
    "from IPython.core.interactiveshell import InteractiveShell\n",
    "InteractiveShell.ast_node_interactivity = \"all\"\n",
    "%load_ext autoreload\n",
    "%autoreload 2\n",
    "\n",
    "import pandas as pd\n",
    "pd.options.display.max_columns=1000 \n",
    "pd.options.display.max_rows=1000\n",
    "import numpy as np\n",
    "import seaborn as sns\n",
    "from sklearn.utils import shuffle\n",
    "from scipy import stats\n",
    "import itertools"
   ]
  },
  {
   "cell_type": "code",
   "execution_count": null,
   "metadata": {},
   "outputs": [],
   "source": [
    "import sys\n",
    "sys.path.append('ml_modules/')"
   ]
  },
  {
   "cell_type": "code",
   "execution_count": null,
   "metadata": {},
   "outputs": [],
   "source": [
    "train = pd.read_csv('train.csv')\n",
    "train['impression_time'] = pd.to_datetime(train.impression_time)\n",
    "train.shape\n",
    "# train = train[train.impression_time < pd.to_datetime('2018-12-12')].reset_index(drop=True)\n",
    "train.shape\n",
    "\n",
    "test = pd.read_csv('test.csv')\n",
    "test['impression_time'] = pd.to_datetime(test.impression_time)\n",
    "test.shape"
   ]
  },
  {
   "cell_type": "code",
   "execution_count": null,
   "metadata": {},
   "outputs": [],
   "source": [
    "train.head()"
   ]
  },
  {
   "cell_type": "code",
   "execution_count": null,
   "metadata": {},
   "outputs": [],
   "source": []
  },
  {
   "cell_type": "code",
   "execution_count": null,
   "metadata": {},
   "outputs": [],
   "source": [
    "# (pd.Series(test.user_id.unique()).isin(train.user_id)).mean()\n",
    "# for dt in test.impression_time.dt.date.unique():\n",
    "#     print (dt, test[test.impression_time.dt.date == dt].shape[0], pd.Series(test[test.impression_time.dt.date == dt].user_id.unique()).isin(train.user_id).mean())"
   ]
  },
  {
   "cell_type": "code",
   "execution_count": null,
   "metadata": {},
   "outputs": [],
   "source": [
    "df = pd.concat([train, test], axis=0, sort=False).reset_index(drop=True)\n",
    "df.shape"
   ]
  },
  {
   "cell_type": "code",
   "execution_count": null,
   "metadata": {},
   "outputs": [],
   "source": []
  },
  {
   "cell_type": "code",
   "execution_count": null,
   "metadata": {},
   "outputs": [],
   "source": [
    "train_ids=train.impression_id\n",
    "test_ids=test.impression_id\n",
    "len(train_ids),len(test_ids)"
   ]
  },
  {
   "cell_type": "code",
   "execution_count": null,
   "metadata": {},
   "outputs": [],
   "source": [
    "df.sort_values(by=['user_id', 'impression_time'], inplace=True)"
   ]
  },
  {
   "cell_type": "code",
   "execution_count": null,
   "metadata": {},
   "outputs": [],
   "source": [
    "df['last_is_click'] = df.is_click.shift(1)\n",
    "df.loc[df.user_id != df.user_id.shift(1), 'last_is_click'] = np.nan"
   ]
  },
  {
   "cell_type": "code",
   "execution_count": null,
   "metadata": {},
   "outputs": [],
   "source": [
    "df.sort_values(by=['app_code', 'impression_time'], inplace=True)"
   ]
  },
  {
   "cell_type": "code",
   "execution_count": null,
   "metadata": {},
   "outputs": [],
   "source": [
    "df['last_app_code'] = df.app_code.shift(1)\n",
    "df.loc[df.user_id != df.user_id.shift(1), 'last_app_code'] = np.nan"
   ]
  },
  {
   "cell_type": "code",
   "execution_count": null,
   "metadata": {},
   "outputs": [],
   "source": [
    "df['same_last_app_code']= (df.last_app_code == df.app_code).astype(int)"
   ]
  },
  {
   "cell_type": "code",
   "execution_count": null,
   "metadata": {},
   "outputs": [],
   "source": [
    "id_order=pd.read_csv('id_order.csv')"
   ]
  },
  {
   "cell_type": "code",
   "execution_count": null,
   "metadata": {},
   "outputs": [],
   "source": [
    "df=id_order.merge(df,on='impression_id',how='left')"
   ]
  },
  {
   "cell_type": "code",
   "execution_count": null,
   "metadata": {},
   "outputs": [],
   "source": []
  },
  {
   "cell_type": "code",
   "execution_count": null,
   "metadata": {},
   "outputs": [],
   "source": [
    "train = df[df.impression_id.isin(train_ids)]\n",
    "test = df[df.impression_id.isin(test_ids)]\n",
    "train.shape, test.shape"
   ]
  },
  {
   "cell_type": "code",
   "execution_count": null,
   "metadata": {},
   "outputs": [],
   "source": [
    "train.head()"
   ]
  },
  {
   "cell_type": "code",
   "execution_count": null,
   "metadata": {},
   "outputs": [],
   "source": []
  },
  {
   "cell_type": "code",
   "execution_count": null,
   "metadata": {},
   "outputs": [],
   "source": []
  },
  {
   "cell_type": "code",
   "execution_count": null,
   "metadata": {},
   "outputs": [],
   "source": []
  },
  {
   "cell_type": "code",
   "execution_count": null,
   "metadata": {},
   "outputs": [],
   "source": [
    "hist_imp_variables = pd.read_csv('hist_imp_variables.csv')\n",
    "hist_imp_variables.shape\n",
    "hist_imp_variables.head()"
   ]
  },
  {
   "cell_type": "code",
   "execution_count": null,
   "metadata": {},
   "outputs": [],
   "source": [
    "columns_to_keep = list(filter(lambda x: not(x.startswith('hist_7_days') or x.startswith('hist_30_days')), hist_imp_variables.columns))\n",
    "hist_imp_variables = hist_imp_variables[columns_to_keep]\n",
    "hist_imp_variables.shape\n",
    "hist_imp_variables.head()                  "
   ]
  },
  {
   "cell_type": "code",
   "execution_count": null,
   "metadata": {},
   "outputs": [],
   "source": []
  },
  {
   "cell_type": "code",
   "execution_count": null,
   "metadata": {},
   "outputs": [],
   "source": []
  },
  {
   "cell_type": "code",
   "execution_count": null,
   "metadata": {},
   "outputs": [],
   "source": [
    "# hist_sessions_vars = pd.read_csv('hist_sessions_vars.csv')\n",
    "# hist_sessions_vars.shape\n",
    "# hist_sessions_vars.head()\n",
    "# # hist_sessions_vars.columns"
   ]
  },
  {
   "cell_type": "code",
   "execution_count": null,
   "metadata": {},
   "outputs": [],
   "source": [
    "hist_sessions_vars_7d = pd.read_csv('hist_sessions_vars_7d.csv')\n",
    "hist_sessions_vars_7d.shape\n",
    "hist_sessions_vars_7d.head()\n",
    "# hist_sessions_vars_7d.columns"
   ]
  },
  {
   "cell_type": "code",
   "execution_count": null,
   "metadata": {},
   "outputs": [],
   "source": []
  },
  {
   "cell_type": "code",
   "execution_count": null,
   "metadata": {},
   "outputs": [],
   "source": [
    "item_agg_vars = pd.read_csv('item_agg_vars.csv')\n",
    "item_agg_vars.shape\n",
    "item_agg_vars.head()\n",
    "item_agg_vars.columns"
   ]
  },
  {
   "cell_type": "code",
   "execution_count": null,
   "metadata": {
    "scrolled": false
   },
   "outputs": [],
   "source": [
    "# item_agg_vars_7d = pd.read_csv('item_agg_vars_7d.csv')\n",
    "# item_agg_vars_7d.shape\n",
    "# item_agg_vars_7d.head()\n",
    "# item_agg_vars_7d.columns"
   ]
  },
  {
   "cell_type": "code",
   "execution_count": null,
   "metadata": {},
   "outputs": [],
   "source": [
    "last_item_viewed = pd.read_csv('last_item_viewed.csv')\n",
    "last_item_viewed.shape\n",
    "last_item_viewed.head()"
   ]
  },
  {
   "cell_type": "code",
   "execution_count": null,
   "metadata": {},
   "outputs": [],
   "source": [
    "last_item_viewed.columns"
   ]
  },
  {
   "cell_type": "code",
   "execution_count": null,
   "metadata": {},
   "outputs": [],
   "source": [
    "# last_item_viewed_7d = pd.read_csv('last_item_viewed_7d.csv')\n",
    "# last_item_viewed_7d.shape\n",
    "# last_item_viewed_7d.head()\n",
    "# last_item_viewed_7d.columns"
   ]
  },
  {
   "cell_type": "code",
   "execution_count": null,
   "metadata": {},
   "outputs": [],
   "source": []
  },
  {
   "cell_type": "code",
   "execution_count": null,
   "metadata": {},
   "outputs": [],
   "source": []
  },
  {
   "cell_type": "code",
   "execution_count": null,
   "metadata": {},
   "outputs": [],
   "source": [
    "click_vars = pd.read_csv('more_click_vars.csv')\n",
    "# click_vars = click_vars[[c for c in click_vars.columns if not c.endswith('_last_not_nan') ]]\n",
    "# click_vars = click_vars[[c for c in click_vars.columns if c.startswith('hist_all') or c == 'impression_id' ]]\n",
    "click_vars.shape\n",
    "click_vars.head()"
   ]
  },
  {
   "cell_type": "code",
   "execution_count": null,
   "metadata": {},
   "outputs": [],
   "source": [
    "[c for c in click_vars.columns if c.startswith('hist_all') or c == 'impression_id' ]\n"
   ]
  },
  {
   "cell_type": "code",
   "execution_count": null,
   "metadata": {},
   "outputs": [],
   "source": []
  },
  {
   "cell_type": "code",
   "execution_count": null,
   "metadata": {},
   "outputs": [],
   "source": [
    "user_features = pd.read_csv('user_features.csv')\n",
    "user_features = user_features[[c for c in user_features.columns if 'is_click' not in c]]\n",
    "user_features.shape\n",
    "user_features.head()\n",
    "user_features.columns"
   ]
  },
  {
   "cell_type": "code",
   "execution_count": null,
   "metadata": {},
   "outputs": [],
   "source": []
  },
  {
   "cell_type": "code",
   "execution_count": null,
   "metadata": {},
   "outputs": [],
   "source": []
  },
  {
   "cell_type": "code",
   "execution_count": null,
   "metadata": {},
   "outputs": [],
   "source": [
    "all_variables = hist_imp_variables.merge(\n",
    "    click_vars, how='inner').merge(   \n",
    "    hist_sessions_vars_7d, how='left').merge(\n",
    "    item_agg_vars, how='left').merge(\n",
    "    last_item_viewed, how='left')\n",
    "\n",
    "all_variables.shape\n",
    "all_variables.head()"
   ]
  },
  {
   "cell_type": "code",
   "execution_count": null,
   "metadata": {},
   "outputs": [],
   "source": []
  },
  {
   "cell_type": "code",
   "execution_count": null,
   "metadata": {},
   "outputs": [],
   "source": []
  },
  {
   "cell_type": "code",
   "execution_count": null,
   "metadata": {},
   "outputs": [],
   "source": []
  },
  {
   "cell_type": "code",
   "execution_count": null,
   "metadata": {},
   "outputs": [],
   "source": [
    "train = train.merge(all_variables, how='left')\n",
    "test = test.merge(all_variables, how='left')\n",
    "train.shape, test.shape"
   ]
  },
  {
   "cell_type": "code",
   "execution_count": null,
   "metadata": {},
   "outputs": [],
   "source": [
    "train = train.merge(user_features, how='left')\n",
    "test = test.merge(user_features, how='left')\n",
    "train.shape, test.shape"
   ]
  },
  {
   "cell_type": "code",
   "execution_count": null,
   "metadata": {},
   "outputs": [],
   "source": [
    "train.head()"
   ]
  },
  {
   "cell_type": "code",
   "execution_count": null,
   "metadata": {},
   "outputs": [],
   "source": []
  },
  {
   "cell_type": "code",
   "execution_count": null,
   "metadata": {},
   "outputs": [],
   "source": [
    "# train = train.sort_values(by = 'impression_time').reset_index(drop=True)"
   ]
  },
  {
   "cell_type": "code",
   "execution_count": null,
   "metadata": {},
   "outputs": [],
   "source": []
  },
  {
   "cell_type": "code",
   "execution_count": null,
   "metadata": {},
   "outputs": [],
   "source": [
    "def create_date_time_variables(df, date_key):\n",
    "    dates = pd.to_datetime(df[date_key])\n",
    "    df['{}_{}'.format(date_key, 'week')] = dates.dt.week\n",
    "    df['{}_{}'.format(date_key, 'month')] = dates.dt.month\n",
    "    df['{}_{}'.format(date_key, 'year')] = dates.dt.year\n",
    "    df['{}_{}'.format(date_key, 'dayofweek')] = dates.dt.dayofweek\n",
    "    df['{}_{}'.format(date_key, 'dayofmonth')] = dates.dt.day\n",
    "    df['{}_{}'.format(date_key, 'dayofyear')] = dates.dt.dayofyear\n",
    "    \n",
    "    df['{}_{}'.format(date_key, 'hour')] = dates.dt.hour\n",
    "    df['{}_{}'.format(date_key, 'hour')] = dates.dt.minute\n",
    "    \n",
    "    return df "
   ]
  },
  {
   "cell_type": "code",
   "execution_count": null,
   "metadata": {},
   "outputs": [],
   "source": [
    "for k in ['impression_time', 'last_server_time', 'last_7d_server_time']:\n",
    "    if k in train.columns:\n",
    "        train = create_date_time_variables(train, k)\n",
    "        test = create_date_time_variables(test, k)\n",
    "        print(k)"
   ]
  },
  {
   "cell_type": "code",
   "execution_count": null,
   "metadata": {},
   "outputs": [],
   "source": [
    "train.shape, test.shape"
   ]
  },
  {
   "cell_type": "code",
   "execution_count": null,
   "metadata": {},
   "outputs": [],
   "source": []
  },
  {
   "cell_type": "code",
   "execution_count": null,
   "metadata": {},
   "outputs": [],
   "source": []
  },
  {
   "cell_type": "code",
   "execution_count": null,
   "metadata": {
    "scrolled": true
   },
   "outputs": [],
   "source": [
    "train.columns.tolist()"
   ]
  },
  {
   "cell_type": "code",
   "execution_count": null,
   "metadata": {},
   "outputs": [],
   "source": [
    "id_col = 'impression_id'\n",
    "target_col = 'is_click'\n",
    "\n",
    "columns_to_drop = [\n",
    "    'impression_time', \n",
    "    'last_7d_server_time', \n",
    "    'last_server_time'\n",
    "]\n",
    "\n",
    "columns_to_drop = [c for c in columns_to_drop if c in train.columns]\n",
    "\n",
    "cat_cols = [\n",
    "    'user_id', \n",
    "    'app_code', \n",
    "    'os_version', \n",
    "    \n",
    "    'last_app_code',\n",
    "    \n",
    "    'last_device_type', \n",
    "    'last_item_id',\n",
    "    'last_category_1', \n",
    "    'last_category_2',\n",
    "    'last_category_3', \n",
    "    'last_product_type',\n",
    "    \n",
    "    'last_7d_device_type', \n",
    "    'last_7d_item_id', \n",
    "    'last_7d_category_1',\n",
    "    'last_7d_category_2', \n",
    "    'last_7d_category_3', \n",
    "    'last_7d_product_type',\n",
    "    \n",
    "\n",
    "    'hist_category_1_mode',\n",
    "    'hist_category_2_mode',\n",
    "    'hist_category_3_mode',\n",
    "    'hist_product_type_mode',\n",
    "    \n",
    "    'hist_7d_category_1_mode', \n",
    "    'hist_7d_category_2_mode', \n",
    "    'hist_7d_category_3_mode', \n",
    "    'hist_7d_product_type_mode',\n",
    "    \n",
    "    \n",
    "    'user_feats_app_code_mode',\n",
    "    'user_feats_os_version_mode',\n",
    "    'user_feats_item_id_mode',\n",
    "    'user_feats_device_type_mode', \n",
    "    'user_feats_category_1_mode',\n",
    "    'user_feats_category_2_mode',\n",
    "    'user_feats_category_3_mode',\n",
    "    'user_feats_product_type_mode',\n",
    "\n",
    "\n",
    "]\n",
    "cat_cols = [c for c in cat_cols if c in train.columns]\n",
    "cat_cols"
   ]
  },
  {
   "cell_type": "code",
   "execution_count": null,
   "metadata": {},
   "outputs": [],
   "source": [
    "# imputing categorical columns\n",
    "train[cat_cols] = train[cat_cols].fillna('Missing')\n",
    "test[cat_cols] = test[cat_cols].fillna('Missing')\n",
    "\n",
    "# imputing numerical columns\n",
    "train = train.fillna(-1)\n",
    "test = test.fillna(-1)"
   ]
  },
  {
   "cell_type": "code",
   "execution_count": null,
   "metadata": {},
   "outputs": [],
   "source": [
    "train.select_dtypes(include=['object']).columns"
   ]
  },
  {
   "cell_type": "code",
   "execution_count": null,
   "metadata": {
    "scrolled": true
   },
   "outputs": [],
   "source": [
    "# train.impression_time.dt.date.value_counts().sort_index()"
   ]
  },
  {
   "cell_type": "code",
   "execution_count": null,
   "metadata": {},
   "outputs": [],
   "source": [
    "# folds = []\n",
    "# for x, y in [('2018-12-05', None),\n",
    "# #              ('2018-11-28', '2018-12-05')\n",
    "#             ]:\n",
    "#     print (x, y)\n",
    "#     train_index = list(train[train.impression_time <= pd.to_datetime(x)].index)\n",
    "#     val_index = list(train[train.impression_time > pd.to_datetime(x)].index)\n",
    "    \n",
    "#     train.loc[train_index].shape, train.loc[val_index].shape, train.loc[train_index].is_click.mean()    \n",
    "#     folds.append((train_index, val_index))\n",
    "    \n",
    "    "
   ]
  },
  {
   "cell_type": "code",
   "execution_count": null,
   "metadata": {},
   "outputs": [],
   "source": [
    "from custom_estimator import Estimator\n",
    "from encoding import FreqeuncyEncoding\n",
    "from custom_fold_generator import FoldScheme\n",
    "from lightgbm import LGBMClassifier\n",
    "from xgboost import XGBClassifier\n",
    "from sklearn.metrics import roc_auc_score"
   ]
  },
  {
   "cell_type": "code",
   "execution_count": null,
   "metadata": {},
   "outputs": [],
   "source": [
    "cat_cols"
   ]
  },
  {
   "cell_type": "code",
   "execution_count": null,
   "metadata": {},
   "outputs": [],
   "source": [
    "fE = FreqeuncyEncoding(categorical_columns=cat_cols, return_df=True)"
   ]
  },
  {
   "cell_type": "code",
   "execution_count": null,
   "metadata": {},
   "outputs": [],
   "source": [
    "# x = fE.fit_transform(pd.concat([train, test], axis=0))"
   ]
  },
  {
   "cell_type": "code",
   "execution_count": null,
   "metadata": {},
   "outputs": [],
   "source": [
    "train = fE.fit_transform(train)\n",
    "test = fE.transform(test)"
   ]
  },
  {
   "cell_type": "code",
   "execution_count": null,
   "metadata": {},
   "outputs": [],
   "source": [
    "train.head()"
   ]
  },
  {
   "cell_type": "code",
   "execution_count": null,
   "metadata": {},
   "outputs": [],
   "source": []
  },
  {
   "cell_type": "code",
   "execution_count": null,
   "metadata": {},
   "outputs": [],
   "source": [
    "# val_index"
   ]
  },
  {
   "cell_type": "code",
   "execution_count": null,
   "metadata": {},
   "outputs": [],
   "source": [
    "test_ids = test.impression_id\n",
    "train_ids = train.impression_id"
   ]
  },
  {
   "cell_type": "code",
   "execution_count": null,
   "metadata": {},
   "outputs": [],
   "source": [
    "y = train[target_col]\n",
    "train.drop(columns=[x for x in [id_col] + columns_to_drop + [target_col] if x in train.columns], inplace=True)\n",
    "test.drop(columns=[x for x in [id_col] + columns_to_drop + [target_col] if x in test.columns], inplace=True)"
   ]
  },
  {
   "cell_type": "code",
   "execution_count": null,
   "metadata": {},
   "outputs": [],
   "source": [
    "train.shape\n",
    "train.head()"
   ]
  },
  {
   "cell_type": "code",
   "execution_count": null,
   "metadata": {},
   "outputs": [],
   "source": [
    "# y.value_counts()\n",
    "[1,2,3,4][-1:]"
   ]
  },
  {
   "cell_type": "code",
   "execution_count": null,
   "metadata": {},
   "outputs": [],
   "source": []
  },
  {
   "cell_type": "code",
   "execution_count": null,
   "metadata": {},
   "outputs": [],
   "source": [
    "est = Estimator(LGBMClassifier(**{\n",
    "    'n_estimators': 20000, \n",
    "    'learning_rate': 0.01,\n",
    "    'boosting_type': 'gbdt', \n",
    "    'colsample_bytree': 0.60, \n",
    "    'min_child_weight': 9.0, \n",
    "    'num_leaves': 39, \n",
    "    'objective': 'binary', \n",
    "    'subsample': 0.70, \n",
    "    'subsample_freq': 5,\n",
    "    'metric': 'custom'\n",
    "    \n",
    "      }), early_stopping_rounds=400,eval_metric='AUC', scoring_metric=roc_auc_score\n",
    ")"
   ]
  },
  {
   "cell_type": "markdown",
   "metadata": {},
   "source": [
    "### for state 200"
   ]
  },
  {
   "cell_type": "code",
   "execution_count": null,
   "metadata": {},
   "outputs": [],
   "source": [
    "# est.random_state=200\n",
    "est.random_state"
   ]
  },
  {
   "cell_type": "code",
   "execution_count": null,
   "metadata": {
    "scrolled": true
   },
   "outputs": [],
   "source": [
    "oof=est.fit_transform(train.values,y.values)\n",
    "pred=est.transform(test.values)"
   ]
  },
  {
   "cell_type": "code",
   "execution_count": null,
   "metadata": {},
   "outputs": [],
   "source": [
    "est.avg_cv_score"
   ]
  },
  {
   "cell_type": "code",
   "execution_count": null,
   "metadata": {
    "scrolled": true
   },
   "outputs": [],
   "source": [
    "pd.DataFrame({'impression_id':test_ids,'is_click':pred}).to_csv('preds_lgb_7546_pat.csv',index=False)\n",
    "pd.DataFrame({'impression_id':train_ids,'is_click':oof}).to_csv('oof_lgb_7546_pat.csv',index=False)"
   ]
  },
  {
   "cell_type": "code",
   "execution_count": null,
   "metadata": {},
   "outputs": [],
   "source": []
  },
  {
   "cell_type": "code",
   "execution_count": null,
   "metadata": {},
   "outputs": [],
   "source": []
  },
  {
   "cell_type": "code",
   "execution_count": null,
   "metadata": {},
   "outputs": [],
   "source": []
  },
  {
   "cell_type": "code",
   "execution_count": null,
   "metadata": {},
   "outputs": [],
   "source": []
  }
 ],
 "metadata": {
  "kernelspec": {
   "display_name": "Python 3",
   "language": "python",
   "name": "python3"
  },
  "language_info": {
   "codemirror_mode": {
    "name": "ipython",
    "version": 3
   },
   "file_extension": ".py",
   "mimetype": "text/x-python",
   "name": "python",
   "nbconvert_exporter": "python",
   "pygments_lexer": "ipython3",
   "version": "3.7.3"
  }
 },
 "nbformat": 4,
 "nbformat_minor": 2
}
