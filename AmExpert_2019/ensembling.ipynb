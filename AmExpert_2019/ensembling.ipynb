{
 "cells": [
  {
   "cell_type": "code",
   "execution_count": 5,
   "metadata": {},
   "outputs": [],
   "source": [
    "import pandas as pd"
   ]
  },
  {
   "cell_type": "code",
   "execution_count": 15,
   "metadata": {
    "scrolled": true
   },
   "outputs": [],
   "source": [
    "df_preds = None\n",
    "for i, f in enumerate([\n",
    "    'xgb-124-9119-gkf-camp-test.csv',\n",
    "    'lgb-124-9130-gkf-camp-test.csv',\n",
    "    'catb-124-9142-gkf-camp-test.csv',\n",
    "    \n",
    "    'lgb-124-9418-gkf-coup-test.csv',\n",
    "    'xgb-124-9514-gkf-coup-test.csv',\n",
    "    'catb-124-9528-gkf-coup-test.csv',\n",
    "    ]):\n",
    "    if df_preds is None:\n",
    "        df_preds = pd.read_csv(f)\n",
    "        df_preds.columns = ['id', 'pred_{}'.format(i)]\n",
    "    else:\n",
    "        df1 = pd.read_csv(f)\n",
    "        df1.columns = ['id', 'pred_{}'.format(i)]\n",
    "        df_preds = df_preds.merge(df1, on ='id', how='left')"
   ]
  },
  {
   "cell_type": "code",
   "execution_count": 16,
   "metadata": {},
   "outputs": [],
   "source": [
    "test_ids = df_preds.id\n",
    "df_preds = df_preds.drop(columns=['id'])"
   ]
  },
  {
   "cell_type": "code",
   "execution_count": 17,
   "metadata": {},
   "outputs": [],
   "source": [
    "pd.DataFrame({\"id\": test_ids, \"redemption_status\": df_preds.mean(axis=1)}).to_csv('final_submission.csv', index=False)"
   ]
  },
  {
   "cell_type": "code",
   "execution_count": null,
   "metadata": {},
   "outputs": [],
   "source": []
  },
  {
   "cell_type": "code",
   "execution_count": null,
   "metadata": {},
   "outputs": [],
   "source": []
  },
  {
   "cell_type": "code",
   "execution_count": null,
   "metadata": {},
   "outputs": [],
   "source": []
  },
  {
   "cell_type": "code",
   "execution_count": null,
   "metadata": {},
   "outputs": [],
   "source": []
  }
 ],
 "metadata": {
  "kernelspec": {
   "display_name": "Python 3",
   "language": "python",
   "name": "python3"
  },
  "language_info": {
   "codemirror_mode": {
    "name": "ipython",
    "version": 3
   },
   "file_extension": ".py",
   "mimetype": "text/x-python",
   "name": "python",
   "nbconvert_exporter": "python",
   "pygments_lexer": "ipython3",
   "version": "3.7.3"
  }
 },
 "nbformat": 4,
 "nbformat_minor": 2
}
