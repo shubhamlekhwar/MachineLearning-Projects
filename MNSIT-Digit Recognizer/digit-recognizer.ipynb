{
 "cells": [
  {
   "cell_type": "code",
   "execution_count": 1,
   "metadata": {
    "_cell_guid": "b1076dfc-b9ad-4769-8c92-a6c4dae69d19",
    "_uuid": "8f2839f25d086af736a60e9eeb907d3b93b6e0e5"
   },
   "outputs": [
    {
     "name": "stderr",
     "output_type": "stream",
     "text": [
      "Using TensorFlow backend.\n",
      "/opt/conda/lib/python3.6/site-packages/tensorflow/python/framework/dtypes.py:516: FutureWarning: Passing (type, 1) or '1type' as a synonym of type is deprecated; in a future version of numpy, it will be understood as (type, (1,)) / '(1,)type'.\n",
      "  _np_qint8 = np.dtype([(\"qint8\", np.int8, 1)])\n",
      "/opt/conda/lib/python3.6/site-packages/tensorflow/python/framework/dtypes.py:517: FutureWarning: Passing (type, 1) or '1type' as a synonym of type is deprecated; in a future version of numpy, it will be understood as (type, (1,)) / '(1,)type'.\n",
      "  _np_quint8 = np.dtype([(\"quint8\", np.uint8, 1)])\n",
      "/opt/conda/lib/python3.6/site-packages/tensorflow/python/framework/dtypes.py:518: FutureWarning: Passing (type, 1) or '1type' as a synonym of type is deprecated; in a future version of numpy, it will be understood as (type, (1,)) / '(1,)type'.\n",
      "  _np_qint16 = np.dtype([(\"qint16\", np.int16, 1)])\n",
      "/opt/conda/lib/python3.6/site-packages/tensorflow/python/framework/dtypes.py:519: FutureWarning: Passing (type, 1) or '1type' as a synonym of type is deprecated; in a future version of numpy, it will be understood as (type, (1,)) / '(1,)type'.\n",
      "  _np_quint16 = np.dtype([(\"quint16\", np.uint16, 1)])\n",
      "/opt/conda/lib/python3.6/site-packages/tensorflow/python/framework/dtypes.py:520: FutureWarning: Passing (type, 1) or '1type' as a synonym of type is deprecated; in a future version of numpy, it will be understood as (type, (1,)) / '(1,)type'.\n",
      "  _np_qint32 = np.dtype([(\"qint32\", np.int32, 1)])\n",
      "/opt/conda/lib/python3.6/site-packages/tensorflow/python/framework/dtypes.py:525: FutureWarning: Passing (type, 1) or '1type' as a synonym of type is deprecated; in a future version of numpy, it will be understood as (type, (1,)) / '(1,)type'.\n",
      "  np_resource = np.dtype([(\"resource\", np.ubyte, 1)])\n",
      "/opt/conda/lib/python3.6/site-packages/tensorboard/compat/tensorflow_stub/dtypes.py:541: FutureWarning: Passing (type, 1) or '1type' as a synonym of type is deprecated; in a future version of numpy, it will be understood as (type, (1,)) / '(1,)type'.\n",
      "  _np_qint8 = np.dtype([(\"qint8\", np.int8, 1)])\n",
      "/opt/conda/lib/python3.6/site-packages/tensorboard/compat/tensorflow_stub/dtypes.py:542: FutureWarning: Passing (type, 1) or '1type' as a synonym of type is deprecated; in a future version of numpy, it will be understood as (type, (1,)) / '(1,)type'.\n",
      "  _np_quint8 = np.dtype([(\"quint8\", np.uint8, 1)])\n",
      "/opt/conda/lib/python3.6/site-packages/tensorboard/compat/tensorflow_stub/dtypes.py:543: FutureWarning: Passing (type, 1) or '1type' as a synonym of type is deprecated; in a future version of numpy, it will be understood as (type, (1,)) / '(1,)type'.\n",
      "  _np_qint16 = np.dtype([(\"qint16\", np.int16, 1)])\n",
      "/opt/conda/lib/python3.6/site-packages/tensorboard/compat/tensorflow_stub/dtypes.py:544: FutureWarning: Passing (type, 1) or '1type' as a synonym of type is deprecated; in a future version of numpy, it will be understood as (type, (1,)) / '(1,)type'.\n",
      "  _np_quint16 = np.dtype([(\"quint16\", np.uint16, 1)])\n",
      "/opt/conda/lib/python3.6/site-packages/tensorboard/compat/tensorflow_stub/dtypes.py:545: FutureWarning: Passing (type, 1) or '1type' as a synonym of type is deprecated; in a future version of numpy, it will be understood as (type, (1,)) / '(1,)type'.\n",
      "  _np_qint32 = np.dtype([(\"qint32\", np.int32, 1)])\n",
      "/opt/conda/lib/python3.6/site-packages/tensorboard/compat/tensorflow_stub/dtypes.py:550: FutureWarning: Passing (type, 1) or '1type' as a synonym of type is deprecated; in a future version of numpy, it will be understood as (type, (1,)) / '(1,)type'.\n",
      "  np_resource = np.dtype([(\"resource\", np.ubyte, 1)])\n"
     ]
    }
   ],
   "source": [
    "import numpy as np # linear algebra\n",
    "import pandas as pd # data processing, CSV file I/O (e.g. pd.read_csv)\n",
    "import os\n",
    "from keras.utils import to_categorical\n",
    "from keras.models import Sequential\n",
    "from keras.layers import Dense, Input, Add, Activation,ZeroPadding2D, BatchNormalization, Conv2D, Flatten, MaxPooling2D, AveragePooling2D, Dropout\n",
    "from keras.preprocessing.image import ImageDataGenerator\n",
    "from keras.initializers import glorot_uniform\n",
    "from sklearn.model_selection import train_test_split\n",
    "from keras.preprocessing.image import ImageDataGenerator"
   ]
  },
  {
   "cell_type": "code",
   "execution_count": 2,
   "metadata": {},
   "outputs": [],
   "source": [
    "from keras.models import Model, load_model"
   ]
  },
  {
   "cell_type": "code",
   "execution_count": 3,
   "metadata": {
    "_cell_guid": "79c7e3d0-c299-4dcb-8224-4455121ee9b0",
    "_uuid": "d629ff2d2480ee46fbb7e2d37f6b5fab8052498a"
   },
   "outputs": [],
   "source": [
    "train_df=pd.read_csv('../input/train.csv')"
   ]
  },
  {
   "cell_type": "code",
   "execution_count": 4,
   "metadata": {},
   "outputs": [],
   "source": [
    "y=train_df['label']"
   ]
  },
  {
   "cell_type": "code",
   "execution_count": 5,
   "metadata": {},
   "outputs": [],
   "source": [
    "y=to_categorical(y, num_classes=10)\n"
   ]
  },
  {
   "cell_type": "code",
   "execution_count": 6,
   "metadata": {},
   "outputs": [],
   "source": [
    "X= train_df.drop(labels = [\"label\"],axis = 1) "
   ]
  },
  {
   "cell_type": "code",
   "execution_count": 7,
   "metadata": {},
   "outputs": [],
   "source": [
    "test=pd.read_csv('../input/test.csv')"
   ]
  },
  {
   "cell_type": "code",
   "execution_count": 8,
   "metadata": {},
   "outputs": [],
   "source": [
    "#Normalizing\n",
    "X=X/255.\n",
    "test=test/255."
   ]
  },
  {
   "cell_type": "code",
   "execution_count": 9,
   "metadata": {},
   "outputs": [],
   "source": [
    "X = X.values.reshape(-1,28,28,1)\n",
    "test = test.values.reshape(-1,28,28,1)"
   ]
  },
  {
   "cell_type": "code",
   "execution_count": 10,
   "metadata": {},
   "outputs": [],
   "source": [
    "X_train, X_test, y_train, y_test = train_test_split(X, y, test_size=0.2, random_state=0)"
   ]
  },
  {
   "cell_type": "code",
   "execution_count": 11,
   "metadata": {},
   "outputs": [],
   "source": [
    "model=Sequential()\n",
    "\n",
    "model.add(Conv2D(32, (5, 5), strides = (2, 2),padding='same', name = 'conv1', kernel_initializer = glorot_uniform(seed=0), input_shape=(28, 28, 1), activation=\"relu\"))\n",
    "model.add(Conv2D(32, (5, 5), strides = (2, 2),padding='same', name = 'conv2', kernel_initializer = glorot_uniform(seed=0), activation=\"relu\"))\n",
    "model.add(BatchNormalization(axis=3))\n",
    "#model.add(Activation('relu'))\n",
    "model.add(MaxPooling2D(pool_size=(2, 2)))\n",
    "model.add(Dropout(0.3))\n",
    "\n",
    "model.add(Conv2D(64, (3, 3), strides = (2, 2),padding='same', name = 'conv3', kernel_initializer = glorot_uniform(seed=0), activation=\"relu\"))\n",
    "model.add(BatchNormalization(axis=3))\n",
    "#model.add(Activation('relu'))\n",
    "model.add(MaxPooling2D(pool_size=(2, 2)))\n",
    "model.add(Dropout(0.3))\n",
    "\n",
    "\n",
    "model.add(AveragePooling2D(pool_size=(1, 1)))\n",
    "model.add(Flatten())\n",
    "model.add(Dense(10, activation='softmax', kernel_initializer = glorot_uniform(seed=0)))"
   ]
  },
  {
   "cell_type": "code",
   "execution_count": 12,
   "metadata": {},
   "outputs": [],
   "source": [
    "#optimizer = RMSprop(lr=0.001, rho=0.9, epsilon=1e-08, decay=0.0)\n",
    "model.compile(optimizer='adam', loss='categorical_crossentropy', metrics=['accuracy'])"
   ]
  },
  {
   "cell_type": "markdown",
   "metadata": {},
   "source": [
    "## Data Augmentation"
   ]
  },
  {
   "cell_type": "code",
   "execution_count": 13,
   "metadata": {},
   "outputs": [],
   "source": [
    "epochs = 40\n",
    "batch_size = 86"
   ]
  },
  {
   "cell_type": "code",
   "execution_count": 14,
   "metadata": {},
   "outputs": [],
   "source": [
    "# With data augmentation to prevent overfitting\n",
    "\n",
    "datagen = ImageDataGenerator(featurewise_center=False,  # set input mean to 0 over the dataset\n",
    "        samplewise_center=False,  # set each sample mean to 0\n",
    "        featurewise_std_normalization=False,  # divide inputs by std of the dataset\n",
    "        samplewise_std_normalization=False,  # divide each input by its std\n",
    "        zca_whitening=False,  # apply ZCA whitening\n",
    "        rotation_range=30,  # randomly rotate images in the range (degrees, 0 to 180)\n",
    "        zoom_range = 0.1, # Randomly zoom image \n",
    "        width_shift_range=0.2,  # randomly shift images horizontally (fraction of total width)\n",
    "        height_shift_range=0.1,  # randomly shift images vertically (fraction of total height)\n",
    "        horizontal_flip=False,  # randomly flip images\n",
    "        vertical_flip=False)  # randomly flip images\n",
    "\n",
    "\n",
    "#datagen.fit(X_train)\n",
    "train_gen = datagen.flow(X_train, y_train, batch_size=batch_size)\n",
    "test_gen = datagen.flow(X_test, y_test, batch_size=batch_size)"
   ]
  },
  {
   "cell_type": "code",
   "execution_count": 15,
   "metadata": {},
   "outputs": [
    {
     "name": "stdout",
     "output_type": "stream",
     "text": [
      "Epoch 1/40\n",
      "390/390 [==============================] - 18s 47ms/step - loss: 1.3546 - acc: 0.5725 - val_loss: 0.5499 - val_acc: 0.8251\n",
      "Epoch 2/40\n",
      "390/390 [==============================] - 17s 43ms/step - loss: 0.5092 - acc: 0.8403 - val_loss: 0.2656 - val_acc: 0.9221\n",
      "Epoch 3/40\n",
      "390/390 [==============================] - 17s 44ms/step - loss: 0.3550 - acc: 0.8912 - val_loss: 0.2482 - val_acc: 0.9245\n",
      "Epoch 4/40\n",
      "390/390 [==============================] - 17s 43ms/step - loss: 0.2803 - acc: 0.9138 - val_loss: 0.1578 - val_acc: 0.9515\n",
      "Epoch 5/40\n",
      "390/390 [==============================] - 17s 43ms/step - loss: 0.2441 - acc: 0.9258 - val_loss: 0.1304 - val_acc: 0.9592\n",
      "Epoch 6/40\n",
      "390/390 [==============================] - 17s 43ms/step - loss: 0.2226 - acc: 0.9325 - val_loss: 0.1154 - val_acc: 0.9650\n",
      "Epoch 7/40\n",
      "390/390 [==============================] - 17s 43ms/step - loss: 0.2063 - acc: 0.9380 - val_loss: 0.1070 - val_acc: 0.9663\n",
      "Epoch 8/40\n",
      "390/390 [==============================] - 17s 44ms/step - loss: 0.1927 - acc: 0.9420 - val_loss: 0.1136 - val_acc: 0.9649\n",
      "Epoch 9/40\n",
      "390/390 [==============================] - 17s 44ms/step - loss: 0.1825 - acc: 0.9449 - val_loss: 0.1053 - val_acc: 0.9673\n",
      "Epoch 10/40\n",
      "390/390 [==============================] - 17s 43ms/step - loss: 0.1719 - acc: 0.9477 - val_loss: 0.0896 - val_acc: 0.9721\n",
      "Epoch 11/40\n",
      "390/390 [==============================] - 17s 43ms/step - loss: 0.1670 - acc: 0.9497 - val_loss: 0.1038 - val_acc: 0.9673\n",
      "Epoch 12/40\n",
      "390/390 [==============================] - 17s 44ms/step - loss: 0.1655 - acc: 0.9497 - val_loss: 0.0942 - val_acc: 0.9719\n",
      "Epoch 13/40\n",
      "390/390 [==============================] - 17s 44ms/step - loss: 0.1574 - acc: 0.9513 - val_loss: 0.0891 - val_acc: 0.9707\n",
      "Epoch 14/40\n",
      "390/390 [==============================] - 17s 44ms/step - loss: 0.1532 - acc: 0.9533 - val_loss: 0.0811 - val_acc: 0.9757\n",
      "Epoch 15/40\n",
      "390/390 [==============================] - 17s 44ms/step - loss: 0.1452 - acc: 0.9561 - val_loss: 0.0853 - val_acc: 0.9720\n",
      "Epoch 16/40\n",
      "390/390 [==============================] - 17s 44ms/step - loss: 0.1433 - acc: 0.9569 - val_loss: 0.0813 - val_acc: 0.9740\n",
      "Epoch 17/40\n",
      "390/390 [==============================] - 17s 44ms/step - loss: 0.1410 - acc: 0.9568 - val_loss: 0.0913 - val_acc: 0.9720\n",
      "Epoch 18/40\n",
      "390/390 [==============================] - 17s 44ms/step - loss: 0.1376 - acc: 0.9581 - val_loss: 0.0776 - val_acc: 0.9762\n",
      "Epoch 19/40\n",
      "390/390 [==============================] - 17s 43ms/step - loss: 0.1366 - acc: 0.9579 - val_loss: 0.0751 - val_acc: 0.9756\n",
      "Epoch 20/40\n",
      "390/390 [==============================] - 17s 43ms/step - loss: 0.1339 - acc: 0.9593 - val_loss: 0.0708 - val_acc: 0.9763\n",
      "Epoch 21/40\n",
      "390/390 [==============================] - 17s 43ms/step - loss: 0.1279 - acc: 0.9614 - val_loss: 0.0691 - val_acc: 0.9782\n",
      "Epoch 22/40\n",
      "390/390 [==============================] - 17s 44ms/step - loss: 0.1308 - acc: 0.9609 - val_loss: 0.0847 - val_acc: 0.9741\n",
      "Epoch 23/40\n",
      "390/390 [==============================] - 17s 43ms/step - loss: 0.1282 - acc: 0.9606 - val_loss: 0.0895 - val_acc: 0.9739\n",
      "Epoch 24/40\n",
      "390/390 [==============================] - 17s 43ms/step - loss: 0.1238 - acc: 0.9613 - val_loss: 0.0667 - val_acc: 0.9782\n",
      "Epoch 25/40\n",
      "390/390 [==============================] - 17s 43ms/step - loss: 0.1237 - acc: 0.9632 - val_loss: 0.0748 - val_acc: 0.9762\n",
      "Epoch 26/40\n",
      "390/390 [==============================] - 17s 43ms/step - loss: 0.1216 - acc: 0.9631 - val_loss: 0.0643 - val_acc: 0.9797\n",
      "Epoch 27/40\n",
      "390/390 [==============================] - 17s 44ms/step - loss: 0.1210 - acc: 0.9631 - val_loss: 0.0732 - val_acc: 0.9774\n",
      "Epoch 28/40\n",
      "390/390 [==============================] - 18s 46ms/step - loss: 0.1154 - acc: 0.9646 - val_loss: 0.0613 - val_acc: 0.9812\n",
      "Epoch 29/40\n",
      "390/390 [==============================] - 17s 43ms/step - loss: 0.1231 - acc: 0.9631 - val_loss: 0.0602 - val_acc: 0.9793\n",
      "Epoch 30/40\n",
      "302/390 [======================>.......] - ETA: 3s - loss: 0.1118 - acc: 0.9657"
     ]
    }
   ],
   "source": [
    "#model.fit(X_train, y_train, epochs = epochs, batch_size = batch_size)\n",
    "\n",
    "model.fit_generator(train_gen,\n",
    "                    epochs = epochs,\n",
    "                    steps_per_epoch = X_train.shape[0] // batch_size,\n",
    "                    validation_data = test_gen,\n",
    "                    validation_steps = X_test.shape[0] // batch_size)"
   ]
  },
  {
   "cell_type": "code",
   "execution_count": 16,
   "metadata": {},
   "outputs": [],
   "source": [
    "import matplotlib.pyplot as plt"
   ]
  },
  {
   "cell_type": "code",
   "execution_count": 17,
   "metadata": {},
   "outputs": [
    {
     "data": {
      "image/png": "[encoded data removed]",
      "text/plain": [
       "<Figure size 1296x720 with 2 Axes>"
      ]
     },
     "metadata": {
      "needs_background": "light"
     },
     "output_type": "display_data"
    }
   ],
   "source": [
    "# Plot the loss and accuracy curves for training and validation \n",
    "fig, ax = plt.subplots(2,1, figsize=(18, 10))\n",
    "ax[0].plot(model.history.history['loss'], color='b', label=\"Training loss\")\n",
    "ax[0].plot(model.history.history['val_loss'], color='r', label=\"validation loss\",axes =ax[0])\n",
    "legend = ax[0].legend(loc='best', shadow=True)\n",
    "\n",
    "ax[1].plot(model.history.history['acc'], color='b', label=\"Training accuracy\")\n",
    "ax[1].plot(model.history.history['val_acc'], color='r',label=\"Validation accuracy\")\n",
    "legend = ax[1].legend(loc='best', shadow=True)"
   ]
  },
  {
   "cell_type": "code",
   "execution_count": 18,
   "metadata": {},
   "outputs": [],
   "source": [
    "# predict results\n",
    "results = model.predict(test)\n",
    "\n",
    "# # select the indix with the maximum probability\n",
    "# results = np.argmax(results,axis = 1)\n",
    "\n",
    "# results = pd.Series(results,name=\"Label\")"
   ]
  },
  {
   "cell_type": "code",
   "execution_count": 19,
   "metadata": {},
   "outputs": [],
   "source": [
    "results = np.argmax(results,axis = 1)"
   ]
  },
  {
   "cell_type": "code",
   "execution_count": 20,
   "metadata": {},
   "outputs": [],
   "source": [
    "results = pd.Series(results,name=\"Label\")"
   ]
  },
  {
   "cell_type": "code",
   "execution_count": 21,
   "metadata": {},
   "outputs": [],
   "source": [
    "submission = pd.concat([pd.Series(range(1,28001),name = \"ImageId\"),results],axis = 1)\n",
    "\n",
    "submission.to_csv(\"cnn_mnist_datagen.csv\",index=False)"
   ]
  },
  {
   "cell_type": "code",
   "execution_count": null,
   "metadata": {},
   "outputs": [],
   "source": []
  }
 ],
 "metadata": {
  "kernelspec": {
   "display_name": "Python 3",
   "language": "python",
   "name": "python3"
  },
  "language_info": {
   "codemirror_mode": {
    "name": "ipython",
    "version": 3
   },
   "file_extension": ".py",
   "mimetype": "text/x-python",
   "name": "python",
   "nbconvert_exporter": "python",
   "pygments_lexer": "ipython3",
   "version": "3.6.6"
  }
 },
 "nbformat": 4,
 "nbformat_minor": 1
}
